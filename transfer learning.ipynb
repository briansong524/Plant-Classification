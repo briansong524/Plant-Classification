{
 "cells": [
  {
   "cell_type": "code",
   "execution_count": 1,
   "metadata": {},
   "outputs": [
    {
     "name": "stderr",
     "output_type": "stream",
     "text": [
      "Using TensorFlow backend.\n"
     ]
    }
   ],
   "source": [
    "import os\n",
    "os.environ[\"CUDA_VISIBLE_DEVICES\"]=\"0\"\n",
    "import random\n",
    "from math import ceil\n",
    "\n",
    "import numpy as np\n",
    "import numpy.core.defchararray as np_string\n",
    "import pandas as pd\n",
    "\n",
    "import glob\n",
    "\n",
    "from keras.preprocessing.image import ImageDataGenerator, array_to_img, img_to_array, load_img\n",
    "from keras.callbacks import ModelCheckpoint, ReduceLROnPlateau\n"
   ]
  },
  {
   "cell_type": "code",
   "execution_count": 2,
   "metadata": {},
   "outputs": [],
   "source": [
    "work_dir = os.getcwd() \n",
    "train_dir = work_dir + '/train/'\n",
    "test_dir = work_dir + '/test/'\n",
    "model_path = work_dir + '/model/'"
   ]
  },
  {
   "cell_type": "code",
   "execution_count": 3,
   "metadata": {},
   "outputs": [
    {
     "name": "stdout",
     "output_type": "stream",
     "text": [
      "['Sugar beet', 'Common Chickweed', 'Cleavers', 'Shepherds Purse', 'Charlock', 'Common wheat', 'Small-flowered Cranesbill', 'Loose Silky-bent', 'Scentless Mayweed', 'Fat Hen', 'Maize', 'Black-grass']\n"
     ]
    }
   ],
   "source": [
    "list_paths = glob.glob(train_dir + '*')\n",
    "list_names = [i.replace(train_dir,'') for i in list_paths]\n",
    "print(list_names)\n",
    "name2ind = dict(zip(list_names, range(len(list_names))))\n",
    "ind2name = dict(zip(range(len(list_names)),list_names))"
   ]
  },
  {
   "cell_type": "code",
   "execution_count": 90,
   "metadata": {},
   "outputs": [],
   "source": [
    "train_set = list()\n",
    "train_label = list()\n",
    "test_set = list()\n",
    "test_label = list()\n",
    "\n",
    "for i in list_names:\n",
    "    glob_per_dir = glob.glob(train_dir + i + '/*')\n",
    "    n_plants = len(glob_per_dir)\n",
    "    n_train = int(np.round(0.8*n_plants))\n",
    "    train_path_per_glob = random.sample(glob_per_dir, n_train)\n",
    "    test_path_per_glob = list(set(glob_per_dir) - set(train_path_per_glob))\n",
    "    train_set.extend(train_path_per_glob)\n",
    "    test_set.extend(test_path_per_glob)\n",
    "    train_label.extend([i]*n_train)\n",
    "    test_label.extend([i]*(len(glob_per_dir) - n_train))\n",
    "\n",
    "train_label_list = [name2ind[i] for i in train_label]\n",
    "test_label_list = [name2ind[i] for i in test_label]\n",
    "\n"
   ]
  },
  {
   "cell_type": "code",
   "execution_count": 82,
   "metadata": {},
   "outputs": [],
   "source": [
    "from skimage.transform import resize as imresize\n",
    "import imageio\n",
    "\n",
    "def img_reshape(img):\n",
    "    img = imresize(img, (48, 48, 3))\n",
    "    return img\n",
    "\n",
    "def img_get(path):\n",
    "    img = imageio.imread(path)\n",
    "    img = img_reshape(img)\n",
    "    return img\n",
    "\n",
    "train_img = [img_get(i) for i in train_set]\n",
    "test_img = [img_get(i) for i in test_set]"
   ]
  },
  {
   "cell_type": "code",
   "execution_count": 94,
   "metadata": {},
   "outputs": [],
   "source": [
    "\n",
    "from keras.utils import to_categorical\n",
    "train_img = np.array(train_img)\n",
    "test_img = np.array(test_img)\n",
    "train_label = to_categorical(np.array(train_label_list))\n",
    "test_label = to_categorical(np.array(test_label_list))"
   ]
  },
  {
   "cell_type": "code",
   "execution_count": 112,
   "metadata": {
    "scrolled": true
   },
   "outputs": [],
   "source": [
    "# # model_final.summary()\n",
    "from keras import backend as K\n",
    "K.clear_session()\n",
    "# del train_model\n",
    "# del model_final"
   ]
  },
  {
   "cell_type": "code",
   "execution_count": 113,
   "metadata": {},
   "outputs": [],
   "source": [
    "from keras import applications\n",
    "from keras.preprocessing.image import ImageDataGenerator\n",
    "from keras import optimizers\n",
    "from keras.models import Sequential, Model \n",
    "from keras.layers import Dropout, Flatten, Dense, GlobalAveragePooling2D\n",
    "from keras import backend as k \n",
    "from keras.callbacks import ModelCheckpoint, LearningRateScheduler, TensorBoard, EarlyStopping\n",
    "\n",
    "img_width, img_height = 48,48\n",
    "pretrained_model = applications.VGG19(weights = \"imagenet\", include_top=False, input_shape = (img_width, img_height, 3))\n"
   ]
  },
  {
   "cell_type": "code",
   "execution_count": 101,
   "metadata": {},
   "outputs": [],
   "source": [
    "# def balance_image_gen(list_names, train_dict, train_directory, BATCH_SIZE):\n",
    "#     small_n = int(ceil(BATCH_SIZE / len(list_names))) # random round up\n",
    "#     classes = [i for i in list_names for _ in range(small_n)]\n",
    "#     list_dir = map(lambda x: [random.choice(train_dict[x]) for _ in range(small_n)], list_names)\n",
    "#     list_dir = [item for sublist in list_dir for item in sublist]\n",
    "#     gen_df = pd.DataFrame({'filename':list_dir, 'class':classes})\n",
    "    \n",
    "#     gen = ImageDataGenerator(\n",
    "#         rotation_range=360.,\n",
    "#         width_shift_range=0.3,\n",
    "#         height_shift_range=0.3,\n",
    "#         zoom_range=0.3,\n",
    "#         horizontal_flip=True,\n",
    "#         vertical_flip=True\n",
    "#         )\n",
    "\n",
    "#     return gen.flow_from_dataframe(gen_df, train_directory, x_col='filename', y_col='class', has_ext=True, target_size=(51, 51), batch_size = BATCH_SIZE)"
   ]
  },
  {
   "cell_type": "code",
   "execution_count": 115,
   "metadata": {},
   "outputs": [],
   "source": [
    "from keras.layers import Activation\n",
    "\n",
    "for layer in pretrained_model.layers[:5]:\n",
    "    layer.trainable = False\n",
    "for layer in pretrained_model.layers[5:]:\n",
    "    layer.trainable = True\n",
    "    \n",
    "    \n",
    "x = pretrained_model.output\n",
    "x = Flatten()(x)\n",
    "x = Dense(64, activation=\"relu\")(x)\n",
    "x = Dropout(0.5)(x)\n",
    "x = Dense(128, activation=\"relu\")(x)\n",
    "x = Dropout(0.5)(x)\n",
    "x = Dense(256, activation=\"relu\")(x)\n",
    "x = Dense(12)(x)\n",
    "predictions = Activation(activation='softmax')(x)\n",
    "\n",
    "# creating the final model \n",
    "model_final = Model(inputs = pretrained_model.input, outputs = predictions)\n",
    "\n",
    "# compile the model \n",
    "model_final.compile(loss = \"categorical_crossentropy\", optimizer = optimizers.SGD(lr=0.0001, momentum=0.9, nesterov=True), metrics=[\"accuracy\"])\n",
    "    "
   ]
  },
  {
   "cell_type": "code",
   "execution_count": 133,
   "metadata": {},
   "outputs": [],
   "source": [
    "class_weights = dict(zip(range(len(list_names)), [1]*len(list_names)))\n",
    "class_weights[7] = 2\n",
    "class_weights[11] = .1"
   ]
  },
  {
   "cell_type": "code",
   "execution_count": 134,
   "metadata": {
    "scrolled": true
   },
   "outputs": [
    {
     "name": "stdout",
     "output_type": "stream",
     "text": [
      "Epoch 1/200\n",
      "1188/1187 [==============================] - 23s 19ms/step - loss: 0.2510 - acc: 0.8893 - val_loss: 0.2830 - val_acc: 0.8851\n",
      "Epoch 2/200\n",
      "1188/1187 [==============================] - 23s 19ms/step - loss: 0.2409 - acc: 0.8865 - val_loss: 0.2674 - val_acc: 0.8988\n",
      "Epoch 3/200\n",
      "1188/1187 [==============================] - 23s 19ms/step - loss: 0.2363 - acc: 0.8890 - val_loss: 0.2841 - val_acc: 0.8957\n",
      "Epoch 4/200\n",
      "1188/1187 [==============================] - 23s 19ms/step - loss: 0.2313 - acc: 0.8871 - val_loss: 0.3028 - val_acc: 0.8841\n",
      "Epoch 5/200\n",
      "1188/1187 [==============================] - 23s 19ms/step - loss: 0.2301 - acc: 0.8920 - val_loss: 0.2736 - val_acc: 0.8988\n",
      "Epoch 6/200\n",
      "1188/1187 [==============================] - 23s 19ms/step - loss: 0.2222 - acc: 0.8936 - val_loss: 0.2591 - val_acc: 0.9041\n",
      "Epoch 7/200\n",
      "1188/1187 [==============================] - 23s 19ms/step - loss: 0.2275 - acc: 0.8892 - val_loss: 0.2735 - val_acc: 0.8967\n",
      "Epoch 8/200\n",
      "1188/1187 [==============================] - 23s 19ms/step - loss: 0.2239 - acc: 0.8933 - val_loss: 0.2443 - val_acc: 0.8946\n",
      "Epoch 9/200\n",
      "1188/1187 [==============================] - 23s 19ms/step - loss: 0.2223 - acc: 0.8924 - val_loss: 0.2924 - val_acc: 0.8978\n",
      "Epoch 10/200\n",
      "1188/1187 [==============================] - 23s 19ms/step - loss: 0.2208 - acc: 0.8920 - val_loss: 0.2659 - val_acc: 0.8978\n",
      "Epoch 11/200\n",
      "1188/1187 [==============================] - 23s 19ms/step - loss: 0.2300 - acc: 0.8897 - val_loss: 0.2463 - val_acc: 0.9031\n",
      "Epoch 12/200\n",
      "1188/1187 [==============================] - 23s 19ms/step - loss: 0.2137 - acc: 0.8929 - val_loss: 0.2658 - val_acc: 0.8978\n",
      "Epoch 13/200\n",
      "1188/1187 [==============================] - 23s 19ms/step - loss: 0.2172 - acc: 0.8942 - val_loss: 0.2661 - val_acc: 0.9020\n",
      "Epoch 14/200\n",
      "1188/1187 [==============================] - 23s 19ms/step - loss: 0.2117 - acc: 0.8932 - val_loss: 0.2680 - val_acc: 0.9009\n",
      "Epoch 15/200\n",
      "1188/1187 [==============================] - 23s 19ms/step - loss: 0.2237 - acc: 0.8905 - val_loss: 0.2706 - val_acc: 0.9009\n",
      "Epoch 16/200\n",
      "1188/1187 [==============================] - 23s 19ms/step - loss: 0.2189 - acc: 0.8921 - val_loss: 0.2714 - val_acc: 0.9052\n",
      "Epoch 17/200\n",
      "1188/1187 [==============================] - 23s 19ms/step - loss: 0.2086 - acc: 0.8943 - val_loss: 0.2801 - val_acc: 0.9031\n",
      "Epoch 18/200\n",
      "1188/1187 [==============================] - 23s 19ms/step - loss: 0.2171 - acc: 0.8929 - val_loss: 0.2736 - val_acc: 0.9041\n"
     ]
    },
    {
     "data": {
      "text/plain": [
       "<keras.callbacks.History at 0x7f0d797b04a8>"
      ]
     },
     "execution_count": 134,
     "metadata": {},
     "output_type": "execute_result"
    }
   ],
   "source": [
    "BATCH_SIZE = 16\n",
    "EPOCHS = 200\n",
    "RANDOM_STATE = 11\n",
    "\n",
    "def get_callbacks(filepath, patience=5):\n",
    "    es = EarlyStopping('val_loss', patience=patience, mode=\"min\")\n",
    "    lr_reduce = ReduceLROnPlateau(monitor='val_acc', factor=0.5, min_delta=1e-5, patience=patience, verbose=1)\n",
    "    msave = ModelCheckpoint(filepath, save_best_only=True)\n",
    "    return [es, lr_reduce, msave]\n",
    "\n",
    "model_name = 'vgg19'\n",
    "callbacks = get_callbacks(filepath = model_path + model_name + '.hdf5', patience = 10)\n",
    "\n",
    "gen = ImageDataGenerator(\n",
    "            rotation_range=360.,\n",
    "            width_shift_range=0.3,\n",
    "            height_shift_range=0.3,\n",
    "            zoom_range=0.1,\n",
    "            horizontal_flip=True,\n",
    "            vertical_flip=True\n",
    "            )\n",
    "\n",
    "\n",
    "model_final.fit_generator(gen.flow(train_img, train_label, batch_size = BATCH_SIZE),\n",
    "                   steps_per_epoch=5*len(train_img)/BATCH_SIZE,\n",
    "                   epochs=EPOCHS,\n",
    "                   verbose=1,\n",
    "                   shuffle=True,\n",
    "                   validation_data=gen.flow(test_img, test_label, batch_size = BATCH_SIZE),\n",
    "                   validation_steps=len(test_img) / BATCH_SIZE,\n",
    "                   callbacks=callbacks,\n",
    "                   class_weight=class_weights)"
   ]
  },
  {
   "cell_type": "code",
   "execution_count": null,
   "metadata": {},
   "outputs": [],
   "source": [
    "# from keras.utils import to_categorical\n",
    "# train_img = np.array(train_img)\n",
    "# test_img = np.array(test_img)\n",
    "# train_label = to_categorical(np.array(train_label))\n",
    "# test_label = to_categorical(np.array(test_label))\n",
    "\n",
    "# train_model(train_img, train_label, test_img, test_label, model_path, model_final, list_names, train_dict, train_dir, BATCH_SIZE, model_name = 'vgg19')"
   ]
  },
  {
   "cell_type": "code",
   "execution_count": 126,
   "metadata": {},
   "outputs": [
    {
     "name": "stdout",
     "output_type": "stream",
     "text": [
      "949/949 [==============================] - 0s 257us/step\n"
     ]
    }
   ],
   "source": [
    "prob = model_final.predict(test_img, verbose=1)\n",
    "pred = prob.argmax(axis=-1)\n"
   ]
  },
  {
   "cell_type": "code",
   "execution_count": 33,
   "metadata": {},
   "outputs": [
    {
     "data": {
      "text/plain": [
       "(949,)"
      ]
     },
     "execution_count": 33,
     "metadata": {},
     "output_type": "execute_result"
    }
   ],
   "source": [
    "np.array(test_label_list).shape"
   ]
  },
  {
   "cell_type": "code",
   "execution_count": 131,
   "metadata": {},
   "outputs": [],
   "source": [
    "from sklearn.metrics import confusion_matrix\n",
    "best_confmat = confusion_matrix(np.array(test_label_list), pred)\n",
    "total_bins = best_confmat.shape[0]"
   ]
  },
  {
   "cell_type": "code",
   "execution_count": 132,
   "metadata": {},
   "outputs": [
    {
     "data": {
      "image/png": "[encoded data removed]",
      "text/plain": [
       "<Figure size 288x288 with 2 Axes>"
      ]
     },
     "metadata": {
      "needs_background": "light"
     },
     "output_type": "display_data"
    },
    {
     "name": "stdout",
     "output_type": "stream",
     "text": [
      "{0: 'Sugar beet', 1: 'Common Chickweed', 2: 'Cleavers', 3: 'Shepherds Purse', 4: 'Charlock', 5: 'Common wheat', 6: 'Small-flowered Cranesbill', 7: 'Loose Silky-bent', 8: 'Scentless Mayweed', 9: 'Fat Hen', 10: 'Maize', 11: 'Black-grass'}\n"
     ]
    }
   ],
   "source": [
    "### Printing heat map of confusion matrix (PHMCM) ###\n",
    "# assume the confusion matrix is stored under \"best_confmat\"\n",
    "# also required is total number of bins (here is labeled \"total_bins\")\n",
    "\n",
    "import numpy as np\n",
    "import matplotlib.pyplot as plt\n",
    "sum_rows = np.sum(best_confmat,axis=1) # this line is summing up the total ground-truth values that were accounted for. \n",
    "nonzero_axis = [i for i in range(len(sum_rows)) if sum_rows[i] !=0] # in case some classes were never predicted (maybe very sparse), then this \n",
    "                                                                    # makes it not so ugly\n",
    "scaled_confmat = best_confmat[nonzero_axis] / sum_rows[nonzero_axis,None] # if the distribution of classes were skewed, then the heatmap would \n",
    "                                                                          # be a bit awkward (bigger classes would get most of the color weight)\n",
    "\n",
    "plt.matshow(scaled_confmat)\n",
    "plt.colorbar()\n",
    "tick_marks = np.arange(total_bins)\n",
    "plt.xticks(tick_marks, range(total_bins))\n",
    "plt.yticks(tick_marks,nonzero_axis)\n",
    "plt.xlabel('Predicted')\n",
    "plt.ylabel('True')\n",
    "plt.show()\n",
    "print(ind2name)\n"
   ]
  },
  {
   "cell_type": "code",
   "execution_count": null,
   "metadata": {},
   "outputs": [],
   "source": [
    "## test set\n",
    "\n",
    "def test_model(model_name = 'model_weight_SGD'):\n",
    "    test_imgs = glob.glob(test_dir + '/*')\n",
    "    \n",
    "    test_set = np.array([img_get(i) for i in test_imgs])\n",
    "    test_names = [i.replace(test_dir,'') for i in test_imgs]\n",
    "    \n",
    "    model_ = model_final\n",
    "    model_.load_weights(filepath = model_path + model_name + '.hdf5')\n",
    "    prob = model_.predict(test_set, verbose=1)\n",
    "    pred = prob.argmax(axis=-1)\n",
    "    sub = pd.DataFrame({\"file\": test_names,\n",
    "                         \"species\": [ind2name[p] for p in pred]})\n",
    "    #sub.to_csv(\"sub.csv\", index=False, header=True)\n",
    "    return sub\n",
    "\n",
    "output = test_model(model_name = model_name)\n",
    "\n"
   ]
  },
  {
   "cell_type": "code",
   "execution_count": null,
   "metadata": {},
   "outputs": [],
   "source": [
    "output.to_csv(os.getcwd() + '/transfer_learning_ResNet50_balanced.csv', index=False,)"
   ]
  }
 ],
 "metadata": {
  "kernelspec": {
   "display_name": "venv_py3",
   "language": "python",
   "name": "venv_py3"
  },
  "language_info": {
   "codemirror_mode": {
    "name": "ipython",
    "version": 3
   },
   "file_extension": ".py",
   "mimetype": "text/x-python",
   "name": "python",
   "nbconvert_exporter": "python",
   "pygments_lexer": "ipython3",
   "version": "3.5.2"
  }
 },
 "nbformat": 4,
 "nbformat_minor": 2
}
